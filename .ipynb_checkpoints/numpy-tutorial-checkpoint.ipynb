{
 "cells": [
  {
   "cell_type": "markdown",
   "id": "dbc1d81c",
   "metadata": {},
   "source": [
    "# Numpy"
   ]
  },
  {
   "cell_type": "code",
   "execution_count": 1,
   "id": "15d0d0db",
   "metadata": {},
   "outputs": [],
   "source": [
    "import numpy as np"
   ]
  },
  {
   "cell_type": "code",
   "execution_count": 2,
   "id": "8a869a44",
   "metadata": {},
   "outputs": [
    {
     "name": "stdout",
     "output_type": "stream",
     "text": [
      "[1, 2, 'arr', <class 'bool'>, False, 6.9]\n"
     ]
    }
   ],
   "source": [
    "python_list = [1, 2, 'arr', bool, False, 6.9]\n",
    "print(python_list)"
   ]
  },
  {
   "cell_type": "code",
   "execution_count": 3,
   "id": "639df7b9",
   "metadata": {},
   "outputs": [
    {
     "name": "stdout",
     "output_type": "stream",
     "text": [
      "[1 2 3 4 5]\n"
     ]
    }
   ],
   "source": [
    "numpy_array = np.array([1, 2, 3, 4, 5])\n",
    "print(numpy_array)"
   ]
  },
  {
   "cell_type": "markdown",
   "id": "ec236865",
   "metadata": {},
   "source": [
    "## Difference between numpy array & python list\n",
    "**Data type:** Lists allow mixed types, NumPy arrays enforce a single type.  \n",
    "**Performance:** NumPy arrays are faster and memory-efficient than lists.  \n",
    "**Operations:** Lists need loops, arrays support vectorized element-wise ops.  \n",
    "**Functionality:** NumPy provides rich math/stat functions, lists don’t.  \n",
    "**Dimensions:** Lists use nesting for 2D/3D, arrays natively support n-D."
   ]
  },
  {
   "cell_type": "code",
   "execution_count": 4,
   "id": "5db3d086",
   "metadata": {},
   "outputs": [],
   "source": [
    "#Operations\n",
    "lst = [1, 2, 3]\n",
    "arr = np.array([1, 2, 3])\n",
    "\n",
    "# Multiply each element by 2\n",
    "# print([x*2 for x in lst])  # [2, 4, 6]  (list needs loop)\n",
    "# print(arr * 2)             # [2 4 6]    (array direct)\n",
    "\n",
    "#Functionality\n",
    "arr = np.array([1, 2, 3])\n",
    "\n",
    "# print(sum(arr))    # 6   (Python sum, works on lists too)\n",
    "# print(arr.mean())  # 2.0 (NumPy extra power)\n",
    "# print(arr.std())   # 0.816... (NumPy built-in stats)"
   ]
  },
  {
   "cell_type": "markdown",
   "id": "f3bc86f0",
   "metadata": {},
   "source": [
    "## ndim & shape"
   ]
  },
  {
   "cell_type": "code",
   "execution_count": 5,
   "id": "ca922e81",
   "metadata": {},
   "outputs": [
    {
     "name": "stdout",
     "output_type": "stream",
     "text": [
      "Dimension: 2\n",
      "Shape: (2, 3)\n"
     ]
    }
   ],
   "source": [
    "# ndim: Returnn the dimension of an array (count square brackets from starting)\n",
    "# shape: Return the shape of an array\n",
    "arr = np.array([[1, 2, 3],\n",
    "                [4, 5, 6]])\n",
    "print('Dimension:', arr.ndim)\n",
    "print('Shape:', arr.shape)"
   ]
  },
  {
   "cell_type": "markdown",
   "id": "6038c691",
   "metadata": {},
   "source": [
    "## reshape"
   ]
  },
  {
   "cell_type": "code",
   "execution_count": 6,
   "id": "3e6ab571",
   "metadata": {},
   "outputs": [
    {
     "name": "stdout",
     "output_type": "stream",
     "text": [
      "[ 0  1  2  3  4  5  6  7  8  9 10 11]\n",
      "[[[ 0  1]\n",
      "  [ 2  3]\n",
      "  [ 4  5]]\n",
      "\n",
      " [[ 6  7]\n",
      "  [ 8  9]\n",
      "  [10 11]]]\n",
      "[[[ 0  1  2]\n",
      "  [ 3  4  5]]\n",
      "\n",
      " [[ 6  7  8]\n",
      "  [ 9 10 11]]]\n",
      "[ 0  1  2  3  4  5  6  7  8  9 10 11]\n"
     ]
    }
   ],
   "source": [
    "# Changes the shape of an array without changing the data.\n",
    "arr = np.arange(12)\n",
    "print(arr)\n",
    "\n",
    "print(arr.reshape(2, 3, 2)) #reshape the array in given shape\n",
    "\n",
    "print(arr.reshape(2, 2, -1)) #numpy decides the dimension if mentioned -1\n",
    "\n",
    "print(arr.reshape(-1)) # -1 reshape the array in one dimension array "
   ]
  },
  {
   "cell_type": "markdown",
   "id": "41945c79",
   "metadata": {},
   "source": [
    "## np.zeros"
   ]
  },
  {
   "cell_type": "code",
   "execution_count": 7,
   "id": "b41a7f5d",
   "metadata": {},
   "outputs": [
    {
     "data": {
      "text/plain": [
       "array([[0., 0., 0.],\n",
       "       [0., 0., 0.]])"
      ]
     },
     "execution_count": 7,
     "metadata": {},
     "output_type": "execute_result"
    }
   ],
   "source": [
    "# Create numpy array with zeros\n",
    "np.zeros((2,3))"
   ]
  },
  {
   "cell_type": "markdown",
   "id": "62e716bb",
   "metadata": {},
   "source": [
    "## np.ones"
   ]
  },
  {
   "cell_type": "code",
   "execution_count": 8,
   "id": "26fa7527",
   "metadata": {},
   "outputs": [
    {
     "data": {
      "text/plain": [
       "array([[1., 1., 1.],\n",
       "       [1., 1., 1.]])"
      ]
     },
     "execution_count": 8,
     "metadata": {},
     "output_type": "execute_result"
    }
   ],
   "source": [
    "# Create numpy array with ones\n",
    "np.ones((2, 3))"
   ]
  },
  {
   "cell_type": "markdown",
   "id": "e6ac2af9",
   "metadata": {},
   "source": [
    "## np.empty"
   ]
  },
  {
   "cell_type": "code",
   "execution_count": 9,
   "id": "151bef59",
   "metadata": {},
   "outputs": [
    {
     "data": {
      "text/plain": [
       "array([[1., 1., 1.],\n",
       "       [1., 1., 1.]])"
      ]
     },
     "execution_count": 9,
     "metadata": {},
     "output_type": "execute_result"
    }
   ],
   "source": [
    "# Creates an array of given shape with random values from memory, without initializing them.\n",
    "np.empty((2,3))"
   ]
  },
  {
   "cell_type": "markdown",
   "id": "e2715997",
   "metadata": {},
   "source": [
    "## np.full"
   ]
  },
  {
   "cell_type": "code",
   "execution_count": 10,
   "id": "1be9f81e",
   "metadata": {},
   "outputs": [
    {
     "data": {
      "text/plain": [
       "array([[5, 5, 5],\n",
       "       [5, 5, 5]])"
      ]
     },
     "execution_count": 10,
     "metadata": {},
     "output_type": "execute_result"
    }
   ],
   "source": [
    "# Creates an array fixed constant value provided\n",
    "np.full((2,3), 5)"
   ]
  },
  {
   "cell_type": "markdown",
   "id": "25458f63",
   "metadata": {},
   "source": [
    "## np.eye"
   ]
  },
  {
   "cell_type": "code",
   "execution_count": 11,
   "id": "c44233d1",
   "metadata": {},
   "outputs": [
    {
     "data": {
      "text/plain": [
       "array([[1., 0.],\n",
       "       [0., 1.],\n",
       "       [0., 0.]])"
      ]
     },
     "execution_count": 11,
     "metadata": {},
     "output_type": "execute_result"
    }
   ],
   "source": [
    "# Creates a digonal array\n",
    "np.eye(3,2)"
   ]
  },
  {
   "cell_type": "markdown",
   "id": "de5bb265",
   "metadata": {},
   "source": [
    "## np.arange"
   ]
  },
  {
   "cell_type": "code",
   "execution_count": 12,
   "id": "961a0ad2",
   "metadata": {},
   "outputs": [
    {
     "data": {
      "text/plain": [
       "array([1, 3, 5, 7, 9])"
      ]
     },
     "execution_count": 12,
     "metadata": {},
     "output_type": "execute_result"
    }
   ],
   "source": [
    "# Range with step\n",
    "np.arange(1, 10, 2)"
   ]
  },
  {
   "cell_type": "markdown",
   "id": "74ef4c59",
   "metadata": {},
   "source": [
    "## np.linspace"
   ]
  },
  {
   "cell_type": "code",
   "execution_count": 13,
   "id": "8780dc35",
   "metadata": {},
   "outputs": [
    {
     "data": {
      "text/plain": [
       "array([0.  , 0.25, 0.5 , 0.75, 1.  ])"
      ]
     },
     "execution_count": 13,
     "metadata": {},
     "output_type": "execute_result"
    }
   ],
   "source": [
    "# Array of evenly spaced numbers\n",
    "np.linspace(0, 1, 5)"
   ]
  },
  {
   "cell_type": "markdown",
   "id": "c0637206",
   "metadata": {},
   "source": [
    "## np.identity"
   ]
  },
  {
   "cell_type": "code",
   "execution_count": 14,
   "id": "96ae0945",
   "metadata": {
    "scrolled": true
   },
   "outputs": [
    {
     "data": {
      "text/plain": [
       "array([[1., 0., 0., 0.],\n",
       "       [0., 1., 0., 0.],\n",
       "       [0., 0., 1., 0.],\n",
       "       [0., 0., 0., 1.]])"
      ]
     },
     "execution_count": 14,
     "metadata": {},
     "output_type": "execute_result"
    }
   ],
   "source": [
    "np.identity(4)"
   ]
  },
  {
   "cell_type": "raw",
   "id": "53ba380f",
   "metadata": {},
   "source": [
    "eye → flexible (rows, cols, diagonal shift).\n",
    "\n",
    "identity → fixed (only square identity matrix)."
   ]
  },
  {
   "cell_type": "markdown",
   "id": "eff6899c",
   "metadata": {},
   "source": [
    "## np.random.rand"
   ]
  },
  {
   "cell_type": "code",
   "execution_count": 15,
   "id": "2f770642",
   "metadata": {},
   "outputs": [
    {
     "data": {
      "text/plain": [
       "array([[0.1822377 , 0.97463582, 0.93790091],\n",
       "       [0.97923082, 0.9846086 , 0.28944103],\n",
       "       [0.33032718, 0.01114557, 0.7269372 ]])"
      ]
     },
     "execution_count": 15,
     "metadata": {},
     "output_type": "execute_result"
    }
   ],
   "source": [
    "# Array of random floats between 0 and 1\n",
    "np.random.rand(3, 3)"
   ]
  },
  {
   "cell_type": "markdown",
   "id": "801d4d60",
   "metadata": {},
   "source": [
    "## np.random.randn"
   ]
  },
  {
   "cell_type": "code",
   "execution_count": 16,
   "id": "379458ac",
   "metadata": {},
   "outputs": [
    {
     "data": {
      "text/plain": [
       "array([[ 0.43849082, -0.34615951, -0.22833686, -0.74019723],\n",
       "       [-0.03745195,  0.73200022, -0.91087883, -0.95622472],\n",
       "       [ 0.45745558, -0.11691424,  0.15106766,  2.25690738]])"
      ]
     },
     "execution_count": 16,
     "metadata": {},
     "output_type": "execute_result"
    }
   ],
   "source": [
    "# Array of random floats from normal distribution\n",
    "np.random.randn(3,4)"
   ]
  },
  {
   "cell_type": "markdown",
   "id": "063f425a",
   "metadata": {},
   "source": [
    "## np.random.randint(low, high, size)"
   ]
  },
  {
   "cell_type": "code",
   "execution_count": 17,
   "id": "e1756c7c",
   "metadata": {},
   "outputs": [
    {
     "data": {
      "text/plain": [
       "array([[9, 4, 7],\n",
       "       [1, 1, 8]])"
      ]
     },
     "execution_count": 17,
     "metadata": {},
     "output_type": "execute_result"
    }
   ],
   "source": [
    "# Array of random integers in given range\n",
    "np.random.randint(1, 10, (2,3))"
   ]
  },
  {
   "cell_type": "markdown",
   "id": "eae07b28",
   "metadata": {},
   "source": [
    "## np.random.random(size)"
   ]
  },
  {
   "cell_type": "code",
   "execution_count": 18,
   "id": "6727f948",
   "metadata": {},
   "outputs": [
    {
     "data": {
      "text/plain": [
       "array([[0.79386301, 0.84106974, 0.62414397],\n",
       "       [0.21817016, 0.40754829, 0.68342187]])"
      ]
     },
     "execution_count": 18,
     "metadata": {},
     "output_type": "execute_result"
    }
   ],
   "source": [
    "# Array of random numbers in [0,1)\n",
    "np.random.random((2,3))"
   ]
  },
  {
   "cell_type": "markdown",
   "id": "be3fb277",
   "metadata": {},
   "source": [
    "## np.random.choice(list, size)"
   ]
  },
  {
   "cell_type": "code",
   "execution_count": 19,
   "id": "a0cfd092",
   "metadata": {},
   "outputs": [
    {
     "data": {
      "text/plain": [
       "array([60, 40, 40])"
      ]
     },
     "execution_count": 19,
     "metadata": {},
     "output_type": "execute_result"
    }
   ],
   "source": [
    "# Random selection from a list/array\n",
    "np.random.choice([10, 20, 30, 40, 50, 60], size=3)"
   ]
  },
  {
   "cell_type": "markdown",
   "id": "f9730bec",
   "metadata": {},
   "source": [
    "## np.random.uniform(low, high, size)"
   ]
  },
  {
   "cell_type": "code",
   "execution_count": 20,
   "id": "42b1a70d",
   "metadata": {},
   "outputs": [
    {
     "data": {
      "text/plain": [
       "array([[5.90099329, 6.67917895, 7.29885736],\n",
       "       [7.21624843, 7.40714498, 8.65008075]])"
      ]
     },
     "execution_count": 20,
     "metadata": {},
     "output_type": "execute_result"
    }
   ],
   "source": [
    "# Random floats from uniform distribution\n",
    "np.random.uniform(5, 10, (2,3))"
   ]
  },
  {
   "cell_type": "markdown",
   "id": "1942beaf",
   "metadata": {},
   "source": [
    "## np.random.normal(mean, std, size)"
   ]
  },
  {
   "cell_type": "code",
   "execution_count": 21,
   "id": "b65ea9a5",
   "metadata": {},
   "outputs": [
    {
     "data": {
      "text/plain": [
       "array([[32.97295641, 40.6015366 , 44.93842816],\n",
       "       [66.71905137, 62.2262325 , 30.36065835]])"
      ]
     },
     "execution_count": 21,
     "metadata": {},
     "output_type": "execute_result"
    }
   ],
   "source": [
    "#Random samples from normal distribution\n",
    "np.random.normal(50, 10, (2,3))\n",
    "# mean=50, std=10"
   ]
  },
  {
   "cell_type": "markdown",
   "id": "7ff10cc7",
   "metadata": {},
   "source": [
    "|     Category     |             Example dtype(s)             |                  Description                  |\n",
    "|:----------------:|:----------------------------------------:|:---------------------------------------------:|\n",
    "|   **Integers**   |        int8, int16, int32, int64         |     Signed integers of 8/16/32/64 bits        |\n",
    "|  **Unsigned**    |       uint8, uint16, uint32, uint64      |            Non-negative integers              |\n",
    "|    **Float**     |        float16, float32, float64         |  Decimal numbers (different precision levels) |\n",
    "|   **Complex**    |          complex64, complex128           |   Complex numbers (real + imaginary parts)    |\n",
    "|   **Boolean**    |                 bool_                    |                 True or False                 |\n",
    "|    **String**    |       str_ (fixed length), unicode_      |                  Text data                    |\n",
    "|    **Object**    |                object_                   |   Python objects (slower, less common use)    |\n"
   ]
  },
  {
   "cell_type": "markdown",
   "id": "ee4c6a92",
   "metadata": {},
   "source": [
    "## Arithmetic operations"
   ]
  },
  {
   "cell_type": "code",
   "execution_count": 22,
   "id": "700f2b40",
   "metadata": {},
   "outputs": [
    {
     "data": {
      "text/plain": [
       "True"
      ]
     },
     "execution_count": 22,
     "metadata": {},
     "output_type": "execute_result"
    }
   ],
   "source": [
    "a = np.array([10, 20, 30])\n",
    "b = np.array([1, 2, 3])\n",
    "\n",
    "# 🔹 Basic arithmetic\n",
    "a + b    == np.add(a, b)          # Addition\n",
    "a - b    == np.subtract(a, b)     # Subtraction\n",
    "a * b    == np.multiply(a, b)     # Multiplication\n",
    "a / b    == np.divide(a, b)       # True division\n",
    "\n",
    "# 🔹 Extra division variants\n",
    "a // b   == np.floor_divide(a, b) # Floor division\n",
    "a % b    == np.mod(a, b)          # Modulus / remainder\n",
    "a % b    == np.remainder(a, b)   # Same as mod but slightly different sign rule for negatives\n",
    "\n",
    "# 🔹 Power and reciprocal\n",
    "a ** 2   == np.power(a, 2)        # Exponentiation\n",
    "1 / a    == np.reciprocal(a)      # Reciprocal (element-wise)\n",
    "\n",
    "# 🔹 Matrix multiplication\n",
    "a @ b    == np.matmul(a, b)       # Matrix multiplication"
   ]
  },
  {
   "cell_type": "code",
   "execution_count": 23,
   "id": "1d15e810",
   "metadata": {},
   "outputs": [
    {
     "name": "stdout",
     "output_type": "stream",
     "text": [
      "[10 20 30] + [1 2 3] = [11 22 33]  (np.add) → [11 22 33]\n",
      "[10 20 30] - [1 2 3] = [ 9 18 27]  (np.subtract) → [ 9 18 27]\n",
      "[10 20 30] * [1 2 3] = [10 40 90]  (np.multiply) → [10 40 90]\n",
      "[10 20 30] / [1 2 3] = [10. 10. 10.]  (np.divide) → [10. 10. 10.]\n",
      "[10 20 30] // [1 2 3] = [10 10 10]  (np.floor_divide) → [10 10 10]\n",
      "[10 20 30] % [1 2 3] = [0 0 0]  (np.mod) → [0 0 0]\n",
      "remainder([10 20 30], [1 2 3]) = [0 0 0]\n",
      "[10 20 30] ** 2 = [100 400 900]  (np.power) → [100 400 900]\n",
      "1/[10 20 30] = [0.1        0.05       0.03333333]  (np.reciprocal) → [0 0 0]\n",
      "[[1 2]\n",
      " [3 4]] @ [[5 6]\n",
      " [7 8]] =\n",
      "[[19 22]\n",
      " [43 50]]  (np.matmul) → [[19 22]\n",
      " [43 50]]\n"
     ]
    }
   ],
   "source": [
    "# 🔹 Basic arithmetic\n",
    "print(f\"{a} + {b} = {a + b}  (np.add) → {np.add(a, b)}\")\n",
    "print(f\"{a} - {b} = {a - b}  (np.subtract) → {np.subtract(a, b)}\")\n",
    "print(f\"{a} * {b} = {a * b}  (np.multiply) → {np.multiply(a, b)}\")\n",
    "print(f\"{a} / {b} = {a / b}  (np.divide) → {np.divide(a, b)}\")\n",
    "\n",
    "# 🔹 Division variants\n",
    "print(f\"{a} // {b} = {a // b}  (np.floor_divide) → {np.floor_divide(a, b)}\")\n",
    "print(f\"{a} % {b} = {a % b}  (np.mod) → {np.mod(a, b)}\")\n",
    "print(f\"remainder({a}, {b}) = {np.remainder(a, b)}\")\n",
    "\n",
    "# 🔹 Power & Reciprocal\n",
    "print(f\"{a} ** 2 = {a ** 2}  (np.power) → {np.power(a, 2)}\")\n",
    "print(f\"1/{a} = {1/a}  (np.reciprocal) → {np.reciprocal(a)}\")\n",
    "\n",
    "# 🔹 Matrix multiplication\n",
    "x = np.array([[1, 2], [3, 4]])\n",
    "y = np.array([[5, 6], [7, 8]])\n",
    "print(f\"{x} @ {y} =\\n{ x @ y }  (np.matmul) → { np.matmul(x, y) }\")"
   ]
  },
  {
   "cell_type": "markdown",
   "id": "57b34c09",
   "metadata": {},
   "source": [
    "## NumPy aggregate functions (summary/reduction functions)"
   ]
  },
  {
   "cell_type": "code",
   "execution_count": 24,
   "id": "d8a7d398",
   "metadata": {},
   "outputs": [
    {
     "name": "stdout",
     "output_type": "stream",
     "text": [
      "sum     → 15\n",
      "prod    → 120\n",
      "min     → 1\n",
      "max     → 5\n",
      "argmin  → 0\n",
      "argmax  → 4\n",
      "mean    → 3.0\n",
      "median  → 3.0\n",
      "std     → 1.4142135623730951\n",
      "var     → 2.0\n",
      "ptp     → 4\n"
     ]
    }
   ],
   "source": [
    "a = np.array([1, 2, 3, 4, 5])\n",
    "\n",
    "print(\"sum     →\", np.sum(a))       # Sum of elements → 15\n",
    "print(\"prod    →\", np.prod(a))      # Product of elements → 120\n",
    "print(\"min     →\", np.min(a))       # Minimum value → 1\n",
    "print(\"max     →\", np.max(a))       # Maximum value → 5\n",
    "print(\"argmin  →\", np.argmin(a))    # Index of minimum → 0\n",
    "print(\"argmax  →\", np.argmax(a))    # Index of maximum → 4\n",
    "print(\"mean    →\", np.mean(a))      # Mean (average) → 3.0\n",
    "print(\"median  →\", np.median(a))    # Median value → 3.0\n",
    "print(\"std     →\", np.std(a))       # Standard deviation → 1.414...\n",
    "print(\"var     →\", np.var(a))       # Variance → 2.0\n",
    "print(\"ptp     →\", np.ptp(a))       # Range (max - min) → 4\n"
   ]
  },
  {
   "cell_type": "markdown",
   "id": "d6d0192e",
   "metadata": {},
   "source": [
    "## NumPy Broadcasting Rules\n",
    "#### Broadcasting is NumPy’s way of doing arithmetic operations on arrays of different shapes without explicitly copying data.\n",
    "\n",
    "1. Shapes are compared from right to left (align dimensions at the end).\n",
    "2. Two dimensions are compatible if:\n",
    "    1. They are equal, OR\n",
    "    2. One of them is 1 (gets stretched).\n",
    "3. If one shape has fewer dimensions, prepend 1s on the left to match lengths.\n",
    "4. If a dimension mismatch occurs (neither equal nor 1) → ❌ error.\n",
    "5. The final shape is the elementwise maximum of each dimension.\n",
    "6. Broadcasting does not insert dimensions in the middle, only on the left.\n",
    "7. Use np.expand_dims or reshape if you want to add dimensions manually.\n",
    "\n",
    "#### Why Broadcasting?\n",
    "1. **Efficiency** → avoids creating huge duplicate arrays in memory.\n",
    "2. **Convenience** → you can write clean mathematical code without loops.\n",
    "3. **Speed** → operations run in optimized C code under the hood."
   ]
  },
  {
   "cell_type": "code",
   "execution_count": null,
   "id": "ddd6ba74",
   "metadata": {},
   "outputs": [],
   "source": []
  }
 ],
 "metadata": {
  "kernelspec": {
   "display_name": "Python 3 (ipykernel)",
   "language": "python",
   "name": "python3"
  },
  "language_info": {
   "codemirror_mode": {
    "name": "ipython",
    "version": 3
   },
   "file_extension": ".py",
   "mimetype": "text/x-python",
   "name": "python",
   "nbconvert_exporter": "python",
   "pygments_lexer": "ipython3",
   "version": "3.9.7"
  }
 },
 "nbformat": 4,
 "nbformat_minor": 5
}
