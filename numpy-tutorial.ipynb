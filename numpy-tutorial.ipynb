{
 "cells": [
  {
   "cell_type": "markdown",
   "id": "dbc1d81c",
   "metadata": {},
   "source": [
    "# Numpy"
   ]
  },
  {
   "cell_type": "code",
   "execution_count": 1,
   "id": "15d0d0db",
   "metadata": {},
   "outputs": [],
   "source": [
    "import numpy as np"
   ]
  },
  {
   "cell_type": "code",
   "execution_count": 2,
   "id": "8a869a44",
   "metadata": {},
   "outputs": [
    {
     "name": "stdout",
     "output_type": "stream",
     "text": [
      "[1, 2, 'arr', <class 'bool'>, False, 6.9]\n"
     ]
    }
   ],
   "source": [
    "python_list = [1, 2, 'arr', bool, False, 6.9]\n",
    "print(python_list)"
   ]
  },
  {
   "cell_type": "code",
   "execution_count": 3,
   "id": "639df7b9",
   "metadata": {},
   "outputs": [
    {
     "name": "stdout",
     "output_type": "stream",
     "text": [
      "[1 2 3 4 5]\n"
     ]
    }
   ],
   "source": [
    "numpy_array = np.array([1, 2, 3, 4, 5])\n",
    "print(numpy_array)"
   ]
  },
  {
   "cell_type": "markdown",
   "id": "ec236865",
   "metadata": {},
   "source": [
    "## Difference between numpy array & python list\n",
    "**Data type:** Lists allow mixed types, NumPy arrays enforce a single type.  \n",
    "**Performance:** NumPy arrays are faster and memory-efficient than lists.  \n",
    "**Operations:** Lists need loops, arrays support vectorized element-wise ops.  \n",
    "**Functionality:** NumPy provides rich math/stat functions, lists don’t.  \n",
    "**Dimensions:** Lists use nesting for 2D/3D, arrays natively support n-D."
   ]
  },
  {
   "cell_type": "code",
   "execution_count": 4,
   "id": "5db3d086",
   "metadata": {},
   "outputs": [],
   "source": [
    "#Operations\n",
    "lst = [1, 2, 3]\n",
    "arr = np.array([1, 2, 3])\n",
    "\n",
    "# Multiply each element by 2\n",
    "# print([x*2 for x in lst])  # [2, 4, 6]  (list needs loop)\n",
    "# print(arr * 2)             # [2 4 6]    (array direct)\n",
    "\n",
    "#Functionality\n",
    "arr = np.array([1, 2, 3])\n",
    "\n",
    "# print(sum(arr))    # 6   (Python sum, works on lists too)\n",
    "# print(arr.mean())  # 2.0 (NumPy extra power)\n",
    "# print(arr.std())   # 0.816... (NumPy built-in stats)"
   ]
  },
  {
   "cell_type": "markdown",
   "id": "f3bc86f0",
   "metadata": {},
   "source": [
    "## ndim"
   ]
  },
  {
   "cell_type": "code",
   "execution_count": 5,
   "id": "ca922e81",
   "metadata": {},
   "outputs": [
    {
     "name": "stdout",
     "output_type": "stream",
     "text": [
      "Dimension: 2\n",
      "Shape: (2, 3)\n"
     ]
    }
   ],
   "source": [
    "arr = np.array([[1, 2, 3],\n",
    "                [4, 5, 6]])\n",
    "print('Dimension:', arr.ndim)\n",
    "print('Shape:', arr.shape)"
   ]
  },
  {
   "cell_type": "markdown",
   "id": "41945c79",
   "metadata": {},
   "source": [
    "## np.zeros"
   ]
  },
  {
   "cell_type": "code",
   "execution_count": 6,
   "id": "b41a7f5d",
   "metadata": {},
   "outputs": [
    {
     "data": {
      "text/plain": [
       "array([[0., 0., 0.],\n",
       "       [0., 0., 0.]])"
      ]
     },
     "execution_count": 6,
     "metadata": {},
     "output_type": "execute_result"
    }
   ],
   "source": [
    "# Create numpy array with zeros\n",
    "np.zeros((2,3))"
   ]
  },
  {
   "cell_type": "markdown",
   "id": "62e716bb",
   "metadata": {},
   "source": [
    "## np.ones"
   ]
  },
  {
   "cell_type": "code",
   "execution_count": 7,
   "id": "26fa7527",
   "metadata": {},
   "outputs": [
    {
     "data": {
      "text/plain": [
       "array([[1., 1., 1.],\n",
       "       [1., 1., 1.]])"
      ]
     },
     "execution_count": 7,
     "metadata": {},
     "output_type": "execute_result"
    }
   ],
   "source": [
    "# Create numpy array with ones\n",
    "np.ones((2, 3))"
   ]
  },
  {
   "cell_type": "markdown",
   "id": "e6ac2af9",
   "metadata": {},
   "source": [
    "## np.empty"
   ]
  },
  {
   "cell_type": "code",
   "execution_count": 8,
   "id": "151bef59",
   "metadata": {},
   "outputs": [
    {
     "data": {
      "text/plain": [
       "array([[1., 1., 1.],\n",
       "       [1., 1., 1.]])"
      ]
     },
     "execution_count": 8,
     "metadata": {},
     "output_type": "execute_result"
    }
   ],
   "source": [
    "# Creates an array of given shape with random values from memory, without initializing them.\n",
    "np.empty((2,3))"
   ]
  },
  {
   "cell_type": "markdown",
   "id": "e2715997",
   "metadata": {},
   "source": [
    "## np.full"
   ]
  },
  {
   "cell_type": "code",
   "execution_count": 9,
   "id": "1be9f81e",
   "metadata": {},
   "outputs": [
    {
     "data": {
      "text/plain": [
       "array([[5, 5, 5],\n",
       "       [5, 5, 5]])"
      ]
     },
     "execution_count": 9,
     "metadata": {},
     "output_type": "execute_result"
    }
   ],
   "source": [
    "# Creates an array fixed constant value provided\n",
    "np.full((2,3), 5)"
   ]
  },
  {
   "cell_type": "markdown",
   "id": "25458f63",
   "metadata": {},
   "source": [
    "## np.eye"
   ]
  },
  {
   "cell_type": "code",
   "execution_count": 15,
   "id": "c44233d1",
   "metadata": {},
   "outputs": [
    {
     "data": {
      "text/plain": [
       "array([[1., 0.],\n",
       "       [0., 1.],\n",
       "       [0., 0.]])"
      ]
     },
     "execution_count": 15,
     "metadata": {},
     "output_type": "execute_result"
    }
   ],
   "source": [
    "# Creates a digonal array\n",
    "np.eye(3,2)"
   ]
  },
  {
   "cell_type": "markdown",
   "id": "de5bb265",
   "metadata": {},
   "source": [
    "## np.arange"
   ]
  },
  {
   "cell_type": "code",
   "execution_count": 11,
   "id": "961a0ad2",
   "metadata": {},
   "outputs": [
    {
     "data": {
      "text/plain": [
       "array([1, 3, 5, 7, 9])"
      ]
     },
     "execution_count": 11,
     "metadata": {},
     "output_type": "execute_result"
    }
   ],
   "source": [
    "np.arange(1, 10, 2)"
   ]
  },
  {
   "cell_type": "markdown",
   "id": "74ef4c59",
   "metadata": {},
   "source": [
    "## np.linspace"
   ]
  },
  {
   "cell_type": "code",
   "execution_count": 12,
   "id": "8780dc35",
   "metadata": {},
   "outputs": [
    {
     "data": {
      "text/plain": [
       "array([0.  , 0.25, 0.5 , 0.75, 1.  ])"
      ]
     },
     "execution_count": 12,
     "metadata": {},
     "output_type": "execute_result"
    }
   ],
   "source": [
    "np.linspace(0, 1, 5)"
   ]
  },
  {
   "cell_type": "markdown",
   "id": "c0637206",
   "metadata": {},
   "source": [
    "## np.identity"
   ]
  },
  {
   "cell_type": "code",
   "execution_count": 16,
   "id": "96ae0945",
   "metadata": {
    "scrolled": true
   },
   "outputs": [
    {
     "data": {
      "text/plain": [
       "array([[1., 0., 0., 0.],\n",
       "       [0., 1., 0., 0.],\n",
       "       [0., 0., 1., 0.],\n",
       "       [0., 0., 0., 1.]])"
      ]
     },
     "execution_count": 16,
     "metadata": {},
     "output_type": "execute_result"
    }
   ],
   "source": [
    "np.identity(4)"
   ]
  },
  {
   "cell_type": "raw",
   "id": "53ba380f",
   "metadata": {},
   "source": [
    "eye → flexible (rows, cols, diagonal shift).\n",
    "\n",
    "identity → fixed (only square identity matrix)."
   ]
  },
  {
   "cell_type": "code",
   "execution_count": 19,
   "id": "2f770642",
   "metadata": {},
   "outputs": [
    {
     "data": {
      "text/plain": [
       "array([[0.23349741, 0.04585029, 0.4923591 ],\n",
       "       [0.61952541, 0.05136078, 0.44307219],\n",
       "       [0.1403976 , 0.06938109, 0.74014368]])"
      ]
     },
     "execution_count": 19,
     "metadata": {},
     "output_type": "execute_result"
    }
   ],
   "source": [
    "# Create array of random floats between 0 and 1\n",
    "np.random.rand(3, 3)"
   ]
  },
  {
   "cell_type": "code",
   "execution_count": null,
   "id": "ed986d74",
   "metadata": {},
   "outputs": [],
   "source": []
  }
 ],
 "metadata": {
  "kernelspec": {
   "display_name": "Python 3 (ipykernel)",
   "language": "python",
   "name": "python3"
  },
  "language_info": {
   "codemirror_mode": {
    "name": "ipython",
    "version": 3
   },
   "file_extension": ".py",
   "mimetype": "text/x-python",
   "name": "python",
   "nbconvert_exporter": "python",
   "pygments_lexer": "ipython3",
   "version": "3.9.7"
  }
 },
 "nbformat": 4,
 "nbformat_minor": 5
}
